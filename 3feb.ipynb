{
 "cells": [
  {
   "cell_type": "code",
   "execution_count": null,
   "id": "e611a1a5-f03b-4f55-97e6-0af53451549c",
   "metadata": {},
   "outputs": [],
   "source": [
    "#Q1. Which keyword is used to create a function? Create a function to return a list of odd numbers in the  range of 1 to 25. \n",
    "\n",
    "The keyword used to create a function in Python is def.\n",
    "\n",
    "Here's an example Python function that returns a list of odd numbers in the range of 1 to 25:\n",
    "\n",
    "def get_odd_numbers():\n",
    "    # Initialize an empty list to store the odd numbers\n",
    "    odd_numbers = []\n",
    "\n",
    "    # Loop over the range of numbers from 1 to 25\n",
    "    for num in range(1, 26):\n",
    "        # If the number is odd, append it to the list\n",
    "        if num % 2 != 0:\n",
    "            odd_numbers.append(num)\n",
    "\n",
    "    # Return the list of odd numbers\n",
    "    return odd_numbers\n"
   ]
  },
  {
   "cell_type": "code",
   "execution_count": null,
   "id": "4e4d6e2b-1ce0-4c6e-be59-f468176b23d6",
   "metadata": {},
   "outputs": [],
   "source": [
    " Q2.Why *args and **kwargs is used in some functions? Create a function each for *args and **kwargs  to demonstrate their use.\n",
    "    \n",
    "    In Python, *args and **kwargs are special syntax used in function definitions to pass a variable number of arguments to a function. \n",
    "*args is used to pass a variable number of non-keyword arguments, while **kwargs is used to pass a variable number of keyword arguments.\n",
    "\n",
    "The *args syntax is used to pass a variable number of non-keyword arguments to a function. \n",
    "Here's an example function that uses *args to compute the sum of a variable number of integers:\n",
    "\n",
    "def sum_integers(*args):\n",
    "    total = 0\n",
    "    for num in args:\n",
    "        total += num\n",
    "    return total\n",
    "In this function, we define a function called sum_integers that accepts any number of arguments using *args.\n",
    "We initialize a variable called total to 0 and then loop over each argument in args. For each argument,\n",
    "we add it to the total variable. Finally, we return the total sum of all the arguments.\n"
   ]
  },
  {
   "cell_type": "code",
   "execution_count": null,
   "id": "ae4648a4-ebdb-4d9c-8f08-52d5cadba41f",
   "metadata": {},
   "outputs": [],
   "source": [
    "Q3.  What is an iterator in python? Name the method used to initialise the iterator\n",
    "object and the method  used for iteration. Use these methods to print the first five elements of the \n",
    "given list [2, 4, 6, 8, 10, 12, 14,  16, 18, 20]. \n",
    "\n",
    "In Python, an iterator is an object that implements the iterator protocol,\n",
    "which consists of the __iter__() and __next__() methods. The __iter__() method returns the iterator object, \n",
    "and the __next__() method returns the next element from the iterable.\n",
    "\n",
    "To initialize an iterator object in Python, you can use the iter() method. \n",
    "To iterate over an iterable object using an iterator, you can use the next() method.\n",
    "\n",
    "To print the first five elements of the given list [2, 4, 6, 8, 10, 12, 14, 16, 18, 20],\n",
    "you can use the following code:\n",
    "    \n",
    "    \n"
   ]
  },
  {
   "cell_type": "code",
   "execution_count": 6,
   "id": "5fedfd29-00e7-4205-ba01-a9f2cdcab61d",
   "metadata": {},
   "outputs": [
    {
     "name": "stdout",
     "output_type": "stream",
     "text": [
      "2\n",
      "4\n",
      "6\n",
      "8\n",
      "10\n"
     ]
    }
   ],
   "source": [
    "my_list = [2, 4, 6, 8, 10, 12, 14, 16, 18, 20]\n",
    "my_iterator = iter(my_list)\n",
    "\n",
    "for i in range(5):\n",
    "    print(next(my_iterator))\n"
   ]
  },
  {
   "cell_type": "code",
   "execution_count": null,
   "id": "485fd326-4069-44f6-ae17-dd42bcd0d1d1",
   "metadata": {},
   "outputs": [],
   "source": [
    "Q4.  What is a generator function in python? Why yield keyword is used? Give an example of a generator  function. \n",
    " \n",
    "In Python, a generator function is a special type of function that returns an iterator object,\n",
    "which can be used to iterate over a sequence of values. \n",
    "A generator function uses the yield keyword to return each value one at a time, \n",
    "instead of returning all the values at once like a regular function.\n",
    "\n",
    "The yield keyword is used in a generator function to return a value to the calling\n",
    "function and to pause the execution of the generator function until the next value is requested.\n",
    "When the next value is requested, the generator function resumes execution from where it left off and continues until\n",
    "the next yield statement is encountered.\n",
    "\n",
    "Here is an example of a generator function that generates the first 10 even numbers:\n",
    "    \n",
    "    def even_numbers():\n",
    "    n = 0\n",
    "    while True:\n",
    "        yield n\n",
    "        n += 2\n",
    "\n",
    "my_iterator = even_numbers()\n",
    "print(next(my_iterator)) # Output: 0\n",
    "print(next(my_iterator)) # Output: 2\n",
    "print(next(my_iterator)) # Output: 4\n"
   ]
  },
  {
   "cell_type": "code",
   "execution_count": null,
   "id": "a330a07d-c0b6-4ac6-85ec-314d37b5ad3e",
   "metadata": {},
   "outputs": [],
   "source": [
    "Q5. Create a generator function for prime numbers less than 1000. Use the next() method to print the  first 20 prime numbers. \n",
    "\n"
   ]
  },
  {
   "cell_type": "code",
   "execution_count": 7,
   "id": "3a7bec32-7a9c-4b77-a656-4594cd611f93",
   "metadata": {},
   "outputs": [
    {
     "name": "stdout",
     "output_type": "stream",
     "text": [
      "2\n",
      "3\n",
      "5\n",
      "7\n",
      "11\n",
      "13\n",
      "17\n",
      "19\n",
      "23\n",
      "29\n",
      "31\n",
      "37\n",
      "41\n",
      "43\n",
      "47\n",
      "53\n",
      "59\n",
      "61\n",
      "67\n",
      "71\n"
     ]
    }
   ],
   "source": [
    "def prime_numbers():\n",
    "    n = 2\n",
    "    while n < 1000:\n",
    "        is_prime = True\n",
    "        for i in range(2, n):\n",
    "            if n % i == 0:\n",
    "                is_prime = False\n",
    "                break\n",
    "        if is_prime:\n",
    "            yield n\n",
    "        n += 1\n",
    "\n",
    "my_iterator = prime_numbers()\n",
    "for i in range(20):\n",
    "    print(next(my_iterator))\n"
   ]
  },
  {
   "cell_type": "code",
   "execution_count": null,
   "id": "ce01b17a-b282-4cd7-9820-334ea1e9a7f1",
   "metadata": {},
   "outputs": [],
   "source": [
    "Q6. Write a python program to print the first 10 Fibonacci numbers using a while loop."
   ]
  },
  {
   "cell_type": "code",
   "execution_count": 8,
   "id": "81695f7d-b46d-444b-8dad-e8cdcf7ff6b9",
   "metadata": {},
   "outputs": [
    {
     "name": "stdout",
     "output_type": "stream",
     "text": [
      "0\n",
      "1\n",
      "1\n",
      "2\n",
      "3\n",
      "5\n",
      "8\n",
      "13\n",
      "21\n",
      "34\n"
     ]
    }
   ],
   "source": [
    "# initialize the first two Fibonacci numbers\n",
    "a, b = 0, 1\n",
    "\n",
    "# print the first 10 Fibonacci numbers\n",
    "i = 0\n",
    "while i < 10:\n",
    "    print(a)\n",
    "    a, b = b, a + b\n",
    "    i += 1\n"
   ]
  },
  {
   "cell_type": "code",
   "execution_count": null,
   "id": "eb59bc62-2edf-41fd-a0ca-14d4bfb05862",
   "metadata": {},
   "outputs": [],
   "source": [
    "Q7. Write a List Comprehension to iterate through the given string: ‘pwskills’. \n",
    "Expected output: ['p', 'w', 's', 'k', 'i', 'l', 'l', 's'] \n"
   ]
  },
  {
   "cell_type": "code",
   "execution_count": 9,
   "id": "5e8fa8c2-3ab3-4254-b9f2-be0d916cc996",
   "metadata": {},
   "outputs": [
    {
     "name": "stdout",
     "output_type": "stream",
     "text": [
      "['p', 'w', 's', 'k', 'i', 'l', 'l', 's']\n"
     ]
    }
   ],
   "source": [
    "string = 'pwskills'\n",
    "result = [char for char in string if char in 'pwskill']\n",
    "print(result)\n"
   ]
  },
  {
   "cell_type": "code",
   "execution_count": null,
   "id": "1d4badbb-750b-410c-9d5b-8ca26a6f7764",
   "metadata": {},
   "outputs": [],
   "source": [
    "This code creates a list comprehension that iterates through the characters in the string \n",
    "'pwskills' and returns only those characters that are in the string 'pwskill'. \n",
    "The resulting list contains the characters 'p', 'w', 's', 'k', 'i', 'l', 'l', and 's', in that order."
   ]
  },
  {
   "cell_type": "code",
   "execution_count": null,
   "id": "441d1627-c424-425b-84b5-582027116dc6",
   "metadata": {},
   "outputs": [],
   "source": [
    "Q8. Write a python program to check whether a given number is Palindrome or not using a while loop."
   ]
  },
  {
   "cell_type": "code",
   "execution_count": 11,
   "id": "3c46b04a-a40f-49f0-afe9-5dc44a66c903",
   "metadata": {},
   "outputs": [
    {
     "name": "stdin",
     "output_type": "stream",
     "text": [
      "Enter a number:  454\n"
     ]
    },
    {
     "name": "stdout",
     "output_type": "stream",
     "text": [
      "454 is a palindrome\n"
     ]
    }
   ],
   "source": [
    "num = int(input(\"Enter a number: \"))\n",
    "temp = num\n",
    "reverse_num = 0\n",
    "\n",
    "while temp > 0:\n",
    "    digit = temp % 10\n",
    "    reverse_num = reverse_num * 10 + digit\n",
    "    temp //= 10\n",
    "\n",
    "if num == reverse_num:\n",
    "    print(num, \"is a palindrome\")\n",
    "else:\n",
    "    print(num, \"is not a palindrome\")\n"
   ]
  },
  {
   "cell_type": "code",
   "execution_count": null,
   "id": "9684bb9f-951b-4ddd-aebf-92cb0ba38e86",
   "metadata": {},
   "outputs": [],
   "source": [
    "Q9. Write a code to print odd numbers from 1 to 100 using list comprehension. \n",
    "Note: Use a list comprehension to create a list from 1 to 100 and use another List comprehension to filter  out odd numbers.\n"
   ]
  }
 ],
 "metadata": {
  "kernelspec": {
   "display_name": "Python 3 (ipykernel)",
   "language": "python",
   "name": "python3"
  },
  "language_info": {
   "codemirror_mode": {
    "name": "ipython",
    "version": 3
   },
   "file_extension": ".py",
   "mimetype": "text/x-python",
   "name": "python",
   "nbconvert_exporter": "python",
   "pygments_lexer": "ipython3",
   "version": "3.10.8"
  }
 },
 "nbformat": 4,
 "nbformat_minor": 5
}
